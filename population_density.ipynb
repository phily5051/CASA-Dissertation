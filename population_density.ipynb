{
 "cells": [
  {
   "cell_type": "markdown",
   "id": "a5eae859-9854-45b0-864f-9eae66a3ca47",
   "metadata": {},
   "source": [
    "# Population Density"
   ]
  },
  {
   "cell_type": "code",
   "execution_count": 1,
   "id": "4bb69379-d1c4-4d8d-9076-5d511331c695",
   "metadata": {},
   "outputs": [],
   "source": [
    "import geopandas as gpd\n",
    "import numpy as np\n",
    "import pandas as pd"
   ]
  },
  {
   "cell_type": "code",
   "execution_count": 2,
   "id": "b7855a78-6bfb-47ec-b3b3-08684888dad1",
   "metadata": {},
   "outputs": [
    {
     "data": {
      "text/plain": [
       "'/home/jovyan/work/Desktop/UCL/Term 2/UCL Dissertation/Dissertation_R'"
      ]
     },
     "execution_count": 2,
     "metadata": {},
     "output_type": "execute_result"
    }
   ],
   "source": [
    "pwd"
   ]
  },
  {
   "cell_type": "code",
   "execution_count": 14,
   "id": "77a4dd26-545f-402e-bf2a-45414e64b1a3",
   "metadata": {},
   "outputs": [
    {
     "data": {
      "text/html": [
       "<div>\n",
       "<style scoped>\n",
       "    .dataframe tbody tr th:only-of-type {\n",
       "        vertical-align: middle;\n",
       "    }\n",
       "\n",
       "    .dataframe tbody tr th {\n",
       "        vertical-align: top;\n",
       "    }\n",
       "\n",
       "    .dataframe thead th {\n",
       "        text-align: right;\n",
       "    }\n",
       "</style>\n",
       "<table border=\"1\" class=\"dataframe\">\n",
       "  <thead>\n",
       "    <tr style=\"text-align: right;\">\n",
       "      <th></th>\n",
       "      <th>LSOA11CD</th>\n",
       "      <th>lsoa_name</th>\n",
       "      <th>LSOA11NM</th>\n",
       "      <th>shape_area</th>\n",
       "      <th>all_ages</th>\n",
       "      <th>pop_density</th>\n",
       "      <th>geometry</th>\n",
       "    </tr>\n",
       "  </thead>\n",
       "  <tbody>\n",
       "    <tr>\n",
       "      <th>0</th>\n",
       "      <td>E01000001</td>\n",
       "      <td>City of London 001A</td>\n",
       "      <td>City of London 001A</td>\n",
       "      <td>129865.314354</td>\n",
       "      <td>1749.0</td>\n",
       "      <td>13467.799379</td>\n",
       "      <td>POLYGON ((532162.491 181867.763, 532248.394 18...</td>\n",
       "    </tr>\n",
       "  </tbody>\n",
       "</table>\n",
       "</div>"
      ],
      "text/plain": [
       "    LSOA11CD            lsoa_name             LSOA11NM     shape_area  \\\n",
       "0  E01000001  City of London 001A  City of London 001A  129865.314354   \n",
       "\n",
       "   all_ages   pop_density                                           geometry  \n",
       "0    1749.0  13467.799379  POLYGON ((532162.491 181867.763, 532248.394 18...  "
      ]
     },
     "execution_count": 14,
     "metadata": {},
     "output_type": "execute_result"
    }
   ],
   "source": [
    "population_gdf = gpd.read_file('/home/jovyan/work/Desktop/UCL/Term 2/UCL Dissertation/Dissertation_R/data/lsoa/lsoa_pop.geojson')\n",
    "population_gdf.to_crs(epsg = 27700)\n",
    "population_gdf.head(1)"
   ]
  },
  {
   "cell_type": "code",
   "execution_count": 16,
   "id": "e02291cf-2f05-4d29-b299-1d06b7453fbb",
   "metadata": {},
   "outputs": [
    {
     "name": "stdout",
     "output_type": "stream",
     "text": [
      "epsg:27700\n"
     ]
    }
   ],
   "source": [
    "print(population_gdf.crs)"
   ]
  },
  {
   "cell_type": "code",
   "execution_count": 11,
   "id": "a65d0186-b5fe-41cf-be33-fdd8f837c447",
   "metadata": {},
   "outputs": [
    {
     "data": {
      "text/html": [
       "<div>\n",
       "<style scoped>\n",
       "    .dataframe tbody tr th:only-of-type {\n",
       "        vertical-align: middle;\n",
       "    }\n",
       "\n",
       "    .dataframe tbody tr th {\n",
       "        vertical-align: top;\n",
       "    }\n",
       "\n",
       "    .dataframe thead th {\n",
       "        text-align: right;\n",
       "    }\n",
       "</style>\n",
       "<table border=\"1\" class=\"dataframe\">\n",
       "  <thead>\n",
       "    <tr style=\"text-align: right;\">\n",
       "      <th></th>\n",
       "      <th>_index</th>\n",
       "      <th>city</th>\n",
       "      <th>index_h3_10lvl</th>\n",
       "      <th>geometry</th>\n",
       "    </tr>\n",
       "  </thead>\n",
       "  <tbody>\n",
       "    <tr>\n",
       "      <th>0</th>\n",
       "      <td>8a195da519a7fff</td>\n",
       "      <td>Greater London</td>\n",
       "      <td>8a195da519a7fff</td>\n",
       "      <td>POLYGON ((-0.25164 51.58819, -0.25260 51.58802...</td>\n",
       "    </tr>\n",
       "  </tbody>\n",
       "</table>\n",
       "</div>"
      ],
      "text/plain": [
       "            _index            city   index_h3_10lvl  \\\n",
       "0  8a195da519a7fff  Greater London  8a195da519a7fff   \n",
       "\n",
       "                                            geometry  \n",
       "0  POLYGON ((-0.25164 51.58819, -0.25260 51.58802...  "
      ]
     },
     "execution_count": 11,
     "metadata": {},
     "output_type": "execute_result"
    }
   ],
   "source": [
    "grid_gdf = gpd.read_file('/home/jovyan/work/Desktop/UCL/Term 2/UCL Dissertation/Dissertation_R/data/locomizer/Greater_London.json')\n",
    "grid_gdf.head(1)"
   ]
  },
  {
   "cell_type": "code",
   "execution_count": 18,
   "id": "05e096f4-4702-4adb-a3e8-2a8648172acc",
   "metadata": {
    "collapsed": true,
    "jupyter": {
     "outputs_hidden": true
    },
    "tags": []
   },
   "outputs": [
    {
     "data": {
      "text/plain": [
       "<Derived Projected CRS: EPSG:27700>\n",
       "Name: OSGB36 / British National Grid\n",
       "Axis Info [cartesian]:\n",
       "- E[east]: Easting (metre)\n",
       "- N[north]: Northing (metre)\n",
       "Area of Use:\n",
       "- name: United Kingdom (UK) - offshore to boundary of UKCS within 49°45'N to 61°N and 9°W to 2°E; onshore Great Britain (England, Wales and Scotland). Isle of Man onshore.\n",
       "- bounds: (-9.0, 49.75, 2.01, 61.01)\n",
       "Coordinate Operation:\n",
       "- name: British National Grid\n",
       "- method: Transverse Mercator\n",
       "Datum: Ordnance Survey of Great Britain 1936\n",
       "- Ellipsoid: Airy 1830\n",
       "- Prime Meridian: Greenwich"
      ]
     },
     "execution_count": 18,
     "metadata": {},
     "output_type": "execute_result"
    }
   ],
   "source": [
    "grid_gdf = grid_gdf.to_crs(epsg = 27700)\n",
    "grid_gdf.crs"
   ]
  },
  {
   "cell_type": "code",
   "execution_count": 22,
   "id": "ce37379d-dce3-4f98-bf6a-f6b3eaee569f",
   "metadata": {},
   "outputs": [
    {
     "data": {
      "text/html": [
       "<div>\n",
       "<style scoped>\n",
       "    .dataframe tbody tr th:only-of-type {\n",
       "        vertical-align: middle;\n",
       "    }\n",
       "\n",
       "    .dataframe tbody tr th {\n",
       "        vertical-align: top;\n",
       "    }\n",
       "\n",
       "    .dataframe thead th {\n",
       "        text-align: right;\n",
       "    }\n",
       "</style>\n",
       "<table border=\"1\" class=\"dataframe\">\n",
       "  <thead>\n",
       "    <tr style=\"text-align: right;\">\n",
       "      <th></th>\n",
       "      <th>LSOA11CD</th>\n",
       "      <th>lsoa_name</th>\n",
       "      <th>LSOA11NM</th>\n",
       "      <th>shape_area</th>\n",
       "      <th>all_ages</th>\n",
       "      <th>pop_density</th>\n",
       "      <th>geometry</th>\n",
       "      <th>oa_area</th>\n",
       "    </tr>\n",
       "  </thead>\n",
       "  <tbody>\n",
       "    <tr>\n",
       "      <th>0</th>\n",
       "      <td>E01000001</td>\n",
       "      <td>City of London 001A</td>\n",
       "      <td>City of London 001A</td>\n",
       "      <td>129865.314354</td>\n",
       "      <td>1749.0</td>\n",
       "      <td>13467.799379</td>\n",
       "      <td>POLYGON ((532162.491 181867.763, 532248.394 18...</td>\n",
       "      <td>133324.9787</td>\n",
       "    </tr>\n",
       "  </tbody>\n",
       "</table>\n",
       "</div>"
      ],
      "text/plain": [
       "    LSOA11CD            lsoa_name             LSOA11NM     shape_area  \\\n",
       "0  E01000001  City of London 001A  City of London 001A  129865.314354   \n",
       "\n",
       "   all_ages   pop_density                                           geometry  \\\n",
       "0    1749.0  13467.799379  POLYGON ((532162.491 181867.763, 532248.394 18...   \n",
       "\n",
       "       oa_area  \n",
       "0  133324.9787  "
      ]
     },
     "execution_count": 22,
     "metadata": {},
     "output_type": "execute_result"
    }
   ],
   "source": [
    "population_gdf['oa_area'] = population_gdf.area\n",
    "population_gdf.head(1)"
   ]
  },
  {
   "cell_type": "code",
   "execution_count": 23,
   "id": "f0af4f7c-89c4-44bf-a986-8a68423c8c30",
   "metadata": {
    "tags": []
   },
   "outputs": [],
   "source": [
    "# Projecting the population data onto the hexagonal grid\n",
    "\n",
    "intersections = gpd.overlay(grid_gdf, population_gdf, how='intersection')\n",
    "\n",
    "intersections['oa_ratio'] = intersections.area / intersections.oa_area\n",
    "\n",
    "intersections['population'] = intersections.all_ages * intersections.oa_ratio\n",
    "\n",
    "intersections = intersections[['_index', 'population']].groupby('_index').sum().sort_values(by='population', ascending=False)"
   ]
  },
  {
   "cell_type": "code",
   "execution_count": 29,
   "id": "30cf5e9c-6935-40c2-bb7f-f0e7f98efa36",
   "metadata": {},
   "outputs": [],
   "source": [
    "# merge two data\n",
    "intersections = gpd.GeoDataFrame(grid_gdf[['_index', 'geometry']].merge(intersections, on='_index'))"
   ]
  },
  {
   "cell_type": "code",
   "execution_count": 30,
   "id": "1c50d545-3136-48f7-9d5e-43fcfe1fec3f",
   "metadata": {},
   "outputs": [
    {
     "data": {
      "text/html": [
       "<div>\n",
       "<style scoped>\n",
       "    .dataframe tbody tr th:only-of-type {\n",
       "        vertical-align: middle;\n",
       "    }\n",
       "\n",
       "    .dataframe tbody tr th {\n",
       "        vertical-align: top;\n",
       "    }\n",
       "\n",
       "    .dataframe thead th {\n",
       "        text-align: right;\n",
       "    }\n",
       "</style>\n",
       "<table border=\"1\" class=\"dataframe\">\n",
       "  <thead>\n",
       "    <tr style=\"text-align: right;\">\n",
       "      <th></th>\n",
       "      <th>_index</th>\n",
       "      <th>geometry</th>\n",
       "      <th>population</th>\n",
       "    </tr>\n",
       "  </thead>\n",
       "  <tbody>\n",
       "    <tr>\n",
       "      <th>0</th>\n",
       "      <td>8a195da519a7fff</td>\n",
       "      <td>POLYGON ((521219.724 189151.929, 521153.655 18...</td>\n",
       "      <td>97.096838</td>\n",
       "    </tr>\n",
       "  </tbody>\n",
       "</table>\n",
       "</div>"
      ],
      "text/plain": [
       "            _index                                           geometry  \\\n",
       "0  8a195da519a7fff  POLYGON ((521219.724 189151.929, 521153.655 18...   \n",
       "\n",
       "   population  \n",
       "0   97.096838  "
      ]
     },
     "execution_count": 30,
     "metadata": {},
     "output_type": "execute_result"
    }
   ],
   "source": [
    "intersections.head(1)"
   ]
  },
  {
   "cell_type": "code",
   "execution_count": 31,
   "id": "a7d7b65a-c1b4-40ea-abda-6f007103083b",
   "metadata": {},
   "outputs": [],
   "source": [
    "# Save the GeoDataFrame as a GeoJSON file\n",
    "intersections.to_file('hex_pop.geojson', driver='GeoJSON')"
   ]
  },
  {
   "cell_type": "markdown",
   "id": "e662275c-4aa1-4b40-b226-c6b136d49027",
   "metadata": {},
   "source": [
    "# Projecting population at hexagon-level to neighbourhood-level"
   ]
  },
  {
   "cell_type": "code",
   "execution_count": 43,
   "id": "089377c8-dfd6-45de-868b-35f2552a0956",
   "metadata": {},
   "outputs": [
    {
     "data": {
      "text/html": [
       "<div>\n",
       "<style scoped>\n",
       "    .dataframe tbody tr th:only-of-type {\n",
       "        vertical-align: middle;\n",
       "    }\n",
       "\n",
       "    .dataframe tbody tr th {\n",
       "        vertical-align: top;\n",
       "    }\n",
       "\n",
       "    .dataframe thead th {\n",
       "        text-align: right;\n",
       "    }\n",
       "</style>\n",
       "<table border=\"1\" class=\"dataframe\">\n",
       "  <thead>\n",
       "    <tr style=\"text-align: right;\">\n",
       "      <th></th>\n",
       "      <th>_index</th>\n",
       "      <th>population</th>\n",
       "      <th>geometry</th>\n",
       "    </tr>\n",
       "  </thead>\n",
       "  <tbody>\n",
       "    <tr>\n",
       "      <th>0</th>\n",
       "      <td>8a195da519a7fff</td>\n",
       "      <td>97.096838</td>\n",
       "      <td>POLYGON ((521219.724 189151.929, 521153.655 18...</td>\n",
       "    </tr>\n",
       "  </tbody>\n",
       "</table>\n",
       "</div>"
      ],
      "text/plain": [
       "            _index  population  \\\n",
       "0  8a195da519a7fff   97.096838   \n",
       "\n",
       "                                            geometry  \n",
       "0  POLYGON ((521219.724 189151.929, 521153.655 18...  "
      ]
     },
     "execution_count": 43,
     "metadata": {},
     "output_type": "execute_result"
    }
   ],
   "source": [
    "grid_gdf = gpd.read_file('/home/jovyan/work/Desktop/UCL/Term 2/UCL Dissertation/Dissertation_R/hex_pop.geojson')\n",
    "grid_gdf.to_crs(epsg = 27700)\n",
    "grid_gdf.head(1)"
   ]
  },
  {
   "cell_type": "code",
   "execution_count": 44,
   "id": "96c6abbb-2dc3-42bb-a419-b557e5dda20c",
   "metadata": {},
   "outputs": [
    {
     "data": {
      "text/html": [
       "<div>\n",
       "<style scoped>\n",
       "    .dataframe tbody tr th:only-of-type {\n",
       "        vertical-align: middle;\n",
       "    }\n",
       "\n",
       "    .dataframe tbody tr th {\n",
       "        vertical-align: top;\n",
       "    }\n",
       "\n",
       "    .dataframe thead th {\n",
       "        text-align: right;\n",
       "    }\n",
       "</style>\n",
       "<table border=\"1\" class=\"dataframe\">\n",
       "  <thead>\n",
       "    <tr style=\"text-align: right;\">\n",
       "      <th></th>\n",
       "      <th>nb_clus</th>\n",
       "      <th>geometry</th>\n",
       "    </tr>\n",
       "  </thead>\n",
       "  <tbody>\n",
       "    <tr>\n",
       "      <th>0</th>\n",
       "      <td>9</td>\n",
       "      <td>POLYGON ((518492.330 170869.907, 518651.214 17...</td>\n",
       "    </tr>\n",
       "  </tbody>\n",
       "</table>\n",
       "</div>"
      ],
      "text/plain": [
       "   nb_clus                                           geometry\n",
       "0        9  POLYGON ((518492.330 170869.907, 518651.214 17..."
      ]
     },
     "execution_count": 44,
     "metadata": {},
     "output_type": "execute_result"
    }
   ],
   "source": [
    "neighbourhood_gdf = gpd.read_file('/home/jovyan/work/Desktop/UCL/Term 2/UCL Dissertation/Dissertation_R/data/neighbourhood/whole_neighbourhoods_polygon_500.geojson')\n",
    "neighbourhood_gdf.to_crs(epsg = 27700)\n",
    "neighbourhood_gdf.head(1)"
   ]
  },
  {
   "cell_type": "code",
   "execution_count": 45,
   "id": "428f06c2-75e6-41d9-9318-ba9c95033c69",
   "metadata": {},
   "outputs": [],
   "source": [
    "# Calculate the area of each hexagon\n",
    "grid_gdf['hexagon_area'] = grid_gdf.area"
   ]
  },
  {
   "cell_type": "code",
   "execution_count": 46,
   "id": "6e0a24b8-f54b-4f89-84b0-62b19ef70a77",
   "metadata": {},
   "outputs": [],
   "source": [
    "# Projecting the hexagon level population data onto the neighborhood polygons\n",
    "intersections = gpd.overlay(grid_gdf, neighbourhood_gdf, how='intersection')"
   ]
  },
  {
   "cell_type": "code",
   "execution_count": 47,
   "id": "2710f83c-127d-4e18-a042-9d7374a71f6c",
   "metadata": {},
   "outputs": [],
   "source": [
    "# Calculate the ratio of intersection area to original hexagon area\n",
    "intersections['hexagon_ratio'] = intersections.area / intersections.hexagon_area"
   ]
  },
  {
   "cell_type": "code",
   "execution_count": 48,
   "id": "52b01096-726f-451e-ae79-8b844afb6458",
   "metadata": {},
   "outputs": [
    {
     "data": {
      "text/html": [
       "<div>\n",
       "<style scoped>\n",
       "    .dataframe tbody tr th:only-of-type {\n",
       "        vertical-align: middle;\n",
       "    }\n",
       "\n",
       "    .dataframe tbody tr th {\n",
       "        vertical-align: top;\n",
       "    }\n",
       "\n",
       "    .dataframe thead th {\n",
       "        text-align: right;\n",
       "    }\n",
       "</style>\n",
       "<table border=\"1\" class=\"dataframe\">\n",
       "  <thead>\n",
       "    <tr style=\"text-align: right;\">\n",
       "      <th></th>\n",
       "      <th>_index</th>\n",
       "      <th>population</th>\n",
       "      <th>hexagon_area</th>\n",
       "      <th>nb_clus</th>\n",
       "      <th>geometry</th>\n",
       "      <th>hexagon_ratio</th>\n",
       "    </tr>\n",
       "  </thead>\n",
       "  <tbody>\n",
       "    <tr>\n",
       "      <th>0</th>\n",
       "      <td>8a195da519a7fff</td>\n",
       "      <td>97.096838</td>\n",
       "      <td>13506.572879</td>\n",
       "      <td>53838</td>\n",
       "      <td>POLYGON ((521275.445 189101.184, 521265.099 18...</td>\n",
       "      <td>1.0</td>\n",
       "    </tr>\n",
       "    <tr>\n",
       "      <th>1</th>\n",
       "      <td>8a195da5574ffff</td>\n",
       "      <td>145.898344</td>\n",
       "      <td>13505.473659</td>\n",
       "      <td>53838</td>\n",
       "      <td>POLYGON ((521459.311 189499.300, 521448.965 18...</td>\n",
       "      <td>1.0</td>\n",
       "    </tr>\n",
       "    <tr>\n",
       "      <th>2</th>\n",
       "      <td>8a195da556e7fff</td>\n",
       "      <td>144.213610</td>\n",
       "      <td>13506.621289</td>\n",
       "      <td>53838</td>\n",
       "      <td>POLYGON ((521062.906 189375.541, 521052.558 18...</td>\n",
       "      <td>1.0</td>\n",
       "    </tr>\n",
       "  </tbody>\n",
       "</table>\n",
       "</div>"
      ],
      "text/plain": [
       "            _index  population  hexagon_area  nb_clus  \\\n",
       "0  8a195da519a7fff   97.096838  13506.572879    53838   \n",
       "1  8a195da5574ffff  145.898344  13505.473659    53838   \n",
       "2  8a195da556e7fff  144.213610  13506.621289    53838   \n",
       "\n",
       "                                            geometry  hexagon_ratio  \n",
       "0  POLYGON ((521275.445 189101.184, 521265.099 18...            1.0  \n",
       "1  POLYGON ((521459.311 189499.300, 521448.965 18...            1.0  \n",
       "2  POLYGON ((521062.906 189375.541, 521052.558 18...            1.0  "
      ]
     },
     "execution_count": 48,
     "metadata": {},
     "output_type": "execute_result"
    }
   ],
   "source": [
    "intersections.head(3)"
   ]
  },
  {
   "cell_type": "code",
   "execution_count": 49,
   "id": "e543067b-f49e-4e3d-a782-caec83cd99f4",
   "metadata": {},
   "outputs": [],
   "source": [
    "# Calculate the population in each intersection and sum by neighborhood ID\n",
    "intersections['population'] = intersections.population * intersections.hexagon_ratio\n",
    "neighborhood_population = intersections.groupby('nb_clus')['population'].sum().reset_index()"
   ]
  },
  {
   "cell_type": "code",
   "execution_count": 50,
   "id": "bf0e565e-12fe-49ff-820b-5b81e4453d27",
   "metadata": {},
   "outputs": [],
   "source": [
    "\n",
    "# Merge the neighborhood population data back to the neighborhood polygons\n",
    "neighbourhood_gdf = neighbourhood_gdf.merge(neighborhood_population, on='nb_clus')\n"
   ]
  },
  {
   "cell_type": "code",
   "execution_count": 52,
   "id": "80754bb6-3cfc-4d91-990c-d680a3a9b1b7",
   "metadata": {},
   "outputs": [
    {
     "data": {
      "text/plain": [
       "125246.20302925151"
      ]
     },
     "execution_count": 52,
     "metadata": {},
     "output_type": "execute_result"
    }
   ],
   "source": [
    "max(neighbourhood_gdf.population)"
   ]
  }
 ],
 "metadata": {
  "kernelspec": {
   "display_name": "Python 3 (ipykernel)",
   "language": "python",
   "name": "python3"
  },
  "language_info": {
   "codemirror_mode": {
    "name": "ipython",
    "version": 3
   },
   "file_extension": ".py",
   "mimetype": "text/x-python",
   "name": "python",
   "nbconvert_exporter": "python",
   "pygments_lexer": "ipython3",
   "version": "3.10.5"
  }
 },
 "nbformat": 4,
 "nbformat_minor": 5
}
